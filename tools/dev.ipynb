{
 "cells": [
  {
   "cell_type": "code",
   "execution_count": 6,
   "metadata": {
    "is_executing": true
   },
   "outputs": [],
   "source": [
    "import asyncio\n",
    "import aiohttp\n",
    "import os\n",
    "import json\n",
    "from tqdm import tqdm\n",
    "from pprint import pprint\n",
    "\n",
    "from utils.catalog import get_semesters, get_courses\n",
    "from utils.jw import login as jw_login, update_lectures\n",
    "from utils.tools import save_json"
   ]
  },
  {
   "cell_type": "code",
   "execution_count": 7,
   "metadata": {},
   "outputs": [],
   "source": [
    "with open(\".env\") as f:\n",
    "    env = dict([line.strip().split(\"=\") for line in f.readlines()])\n",
    "    USTC_PASSPORT_USERNAME = env[\"USTC_PASSPORT_USERNAME\"]\n",
    "    USTC_PASSPORT_PASSWORD = env[\"USTC_PASSPORT_PASSWORD\"]\n",
    "\n",
    "os.environ[\"USTC_PASSPORT_USERNAME\"] = USTC_PASSPORT_USERNAME\n",
    "os.environ[\"USTC_PASSPORT_PASSWORD\"] = USTC_PASSPORT_PASSWORD"
   ]
  },
  {
   "cell_type": "code",
   "execution_count": 10,
   "metadata": {},
   "outputs": [],
   "source": [
    "async with aiohttp.ClientSession() as session:\n",
    "    await jw_login(session)\n",
    "\n",
    "    semesters = await get_semesters()\n",
    "    semester_id = semesters[-1].id\n",
    "\n",
    "    courses = await get_courses(semester_id)"
   ]
  },
  {
   "cell_type": "code",
   "execution_count": null,
   "metadata": {},
   "outputs": [],
   "source": []
  }
 ],
 "metadata": {
  "kernelspec": {
   "display_name": "Python 3",
   "language": "python",
   "name": "python3"
  },
  "language_info": {
   "codemirror_mode": {
    "name": "ipython",
    "version": 3
   },
   "file_extension": ".py",
   "mimetype": "text/x-python",
   "name": "python",
   "nbconvert_exporter": "python",
   "pygments_lexer": "ipython3",
   "version": "3.11.5"
  }
 },
 "nbformat": 4,
 "nbformat_minor": 2
}
